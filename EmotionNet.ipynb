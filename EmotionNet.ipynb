{
 "cells": [
  {
   "cell_type": "markdown",
   "metadata": {},
   "source": [
    "# EmotionNet - Multi Modal Emotion Recognition"
   ]
  },
  {
   "cell_type": "code",
   "execution_count": 7,
   "metadata": {},
   "outputs": [],
   "source": [
    "# importing all libraries\n",
    "import numpy as np\n",
    "import os\n",
    "from sklearn import preprocessing\n",
    "from sklearn.cluster import KMeans\n",
    "from sklearn.svm import SVC\n",
    "from sklearn.metrics import accuracy_score\n",
    "from sklearn.metrics import precision_score\n",
    "from sklearn.metrics import recall_score\n",
    "from sklearn.linear_model import LogisticRegression\n",
    "from sklearn import tree\n",
    "from sklearn.ensemble import RandomForestClassifier\n",
    "from torch.utils.data import Dataset, DataLoader\n",
    "import pickle\n",
    "import torch.nn as nn\n",
    "import torch.nn.functional as F\n",
    "import torch\n",
    "from torch.autograd import Variable\n",
    "import math\n",
    "import matplotlib.pyplot as plt"
   ]
  },
  {
   "cell_type": "markdown",
   "metadata": {},
   "source": [
    "## Loading the Data"
   ]
  },
  {
   "cell_type": "code",
   "execution_count": 8,
   "metadata": {},
   "outputs": [],
   "source": [
    "\n",
    "# train and test data for audio features\n",
    "train_x = pickle.load(open('./non_redundant_train_mfcc_features_0.pickle', 'rb'))\n",
    "test_x = pickle.load(open('./non_redundant_test_mfcc_features_0.pickle', 'rb'))\n",
    "\n",
    "#train and test labels for audio features\n",
    "train_y = pickle.load(open('./non_redundant_training_labels_flattened_2d.pickle', 'rb'))\n",
    "test_y = pickle.load(open('./non_redundant_test_labels_flattened_2d.pickle', 'rb'))\n",
    "\n",
    "#train and test labels for image features\n",
    "img_train_y_ = pickle.load(open('non_redundant_training_labels_flattened_3d.pickle', 'rb'))\n",
    "img_test_y_ = pickle.load(open('non_redundant_test_labels_flattened_3d.pickle', 'rb'))\n",
    "\n",
    "# train and test data for image features\n",
    "img_train = pickle.load(open('./non_redundant_training_features_flattened_3d.pickle', 'rb'))\n",
    "img_test = pickle.load(open('./non_redundant_test_features_flattened_3d.pickle', 'rb'))"
   ]
  },
  {
   "cell_type": "code",
   "execution_count": 9,
   "metadata": {},
   "outputs": [
    {
     "data": {
      "text/plain": [
       "(12288,)"
      ]
     },
     "execution_count": 9,
     "metadata": {},
     "output_type": "execute_result"
    }
   ],
   "source": [
    "img_train[0].shape"
   ]
  },
  {
   "cell_type": "code",
   "execution_count": 10,
   "metadata": {},
   "outputs": [],
   "source": [
    "# printing a couple of relevant shapes ->"
   ]
  },
  {
   "cell_type": "code",
   "execution_count": 11,
   "metadata": {},
   "outputs": [
    {
     "data": {
      "text/plain": [
       "(299, 13)"
      ]
     },
     "execution_count": 11,
     "metadata": {},
     "output_type": "execute_result"
    }
   ],
   "source": [
    "train_x[0].shape"
   ]
  },
  {
   "cell_type": "code",
   "execution_count": 12,
   "metadata": {},
   "outputs": [
    {
     "data": {
      "text/plain": [
       "1200"
      ]
     },
     "execution_count": 12,
     "metadata": {},
     "output_type": "execute_result"
    }
   ],
   "source": [
    "len(train_x)"
   ]
  },
  {
   "cell_type": "code",
   "execution_count": 13,
   "metadata": {},
   "outputs": [
    {
     "data": {
      "text/plain": [
       "1200"
      ]
     },
     "execution_count": 13,
     "metadata": {},
     "output_type": "execute_result"
    }
   ],
   "source": [
    "len(train_y)"
   ]
  },
  {
   "cell_type": "code",
   "execution_count": 14,
   "metadata": {},
   "outputs": [
    {
     "data": {
      "text/plain": [
       "1200"
      ]
     },
     "execution_count": 14,
     "metadata": {},
     "output_type": "execute_result"
    }
   ],
   "source": [
    "len(img_train_y_)"
   ]
  },
  {
   "cell_type": "code",
   "execution_count": 15,
   "metadata": {},
   "outputs": [
    {
     "data": {
      "text/plain": [
       "(1200,)"
      ]
     },
     "execution_count": 15,
     "metadata": {},
     "output_type": "execute_result"
    }
   ],
   "source": [
    "np.array(img_train).shape"
   ]
  },
  {
   "cell_type": "code",
   "execution_count": 16,
   "metadata": {},
   "outputs": [
    {
     "data": {
      "text/plain": [
       "(12288,)"
      ]
     },
     "execution_count": 16,
     "metadata": {},
     "output_type": "execute_result"
    }
   ],
   "source": [
    "img_train[0].shape"
   ]
  },
  {
   "cell_type": "code",
   "execution_count": 17,
   "metadata": {},
   "outputs": [
    {
     "data": {
      "text/plain": [
       "(3887,)"
      ]
     },
     "execution_count": 17,
     "metadata": {},
     "output_type": "execute_result"
    }
   ],
   "source": [
    "train_x[0].flatten().shape"
   ]
  },
  {
   "cell_type": "code",
   "execution_count": 18,
   "metadata": {},
   "outputs": [
    {
     "data": {
      "text/plain": [
       "1200"
      ]
     },
     "execution_count": 18,
     "metadata": {},
     "output_type": "execute_result"
    }
   ],
   "source": [
    "len(train_y)"
   ]
  },
  {
   "cell_type": "code",
   "execution_count": 19,
   "metadata": {},
   "outputs": [
    {
     "data": {
      "text/plain": [
       "240"
      ]
     },
     "execution_count": 19,
     "metadata": {},
     "output_type": "execute_result"
    }
   ],
   "source": [
    "len(test_y)"
   ]
  },
  {
   "cell_type": "markdown",
   "metadata": {},
   "source": [
    "## Data Preprocessing for Audio and Image features"
   ]
  },
  {
   "cell_type": "code",
   "execution_count": 20,
   "metadata": {},
   "outputs": [],
   "source": [
    "#creating empty arrays for appending transformed data\n",
    "audio_train_x = []\n",
    "audio_train_y = []\n",
    "audio_test_x = []\n",
    "audio_test_y = []\n",
    "\n",
    "\n",
    "#converting audio train_x to a suitable format\n",
    "for i in range(len(train_x)):\n",
    "    \n",
    "    #flattening the individual data point\n",
    "    feat = train_x[i].flatten()\n",
    "    \n",
    "    #checking shape\n",
    "    if(feat.shape[0]==3887):\n",
    "        #appending\n",
    "        audio_train_x.append(feat)\n",
    "        \n",
    "        #subtracting 1 for ensuring zero based indexing of train output labels\n",
    "        audio_train_y.append(train_y[i]-1)\n",
    "    else:\n",
    "        #appending zeros otherwise\n",
    "        audio_train_x.append(np.zeros(3887))\n",
    "\n",
    "#doing same for test data (no labels though, obviously)\n",
    "for i in range(len(test_x)):\n",
    "    feat = test_x[i].flatten()\n",
    "    audio_test_x.append(feat)\n",
    "    audio_test_y.append(test_y[i]-1)"
   ]
  },
  {
   "cell_type": "code",
   "execution_count": 21,
   "metadata": {},
   "outputs": [
    {
     "name": "stdout",
     "output_type": "stream",
     "text": [
      "(1200, 3887) (240, 3887)\n"
     ]
    },
    {
     "name": "stderr",
     "output_type": "stream",
     "text": [
      "C:\\Users\\manavgakhar\\anaconda3\\lib\\site-packages\\sklearn\\preprocessing\\_data.py:190: UserWarning: Numerical issues were encountered when scaling the data and might not be solved. The standard deviation of the data is probably very close to 0. \n",
      "  warnings.warn(\"Numerical issues were encountered \"\n"
     ]
    }
   ],
   "source": [
    "# creating a suitably shaped numpy array from  transformed data\n",
    "\n",
    "# train shape - > 1200 x 3887\n",
    "audio_train_x = np.asarray(audio_train_x).reshape((len(audio_train_x), 3887))\n",
    "# test shape - > 240 x 3887\n",
    "audio_test_x = np.asarray(audio_test_x).reshape((len(audio_test_x), 3887))\n",
    "\n",
    "# scaling the data\n",
    "audio_train_x = preprocessing.scale(audio_train_x)\n",
    "audio_test_x = preprocessing.scale(audio_test_x)\n",
    "\n",
    "print(audio_train_x.shape, audio_test_x.shape)"
   ]
  },
  {
   "cell_type": "code",
   "execution_count": 22,
   "metadata": {},
   "outputs": [
    {
     "data": {
      "text/plain": [
       "12288"
      ]
     },
     "execution_count": 22,
     "metadata": {},
     "output_type": "execute_result"
    }
   ],
   "source": [
    "len(img_train[0])"
   ]
  },
  {
   "cell_type": "code",
   "execution_count": 23,
   "metadata": {},
   "outputs": [
    {
     "data": {
      "text/plain": [
       "8192"
      ]
     },
     "execution_count": 23,
     "metadata": {},
     "output_type": "execute_result"
    }
   ],
   "source": [
    "4*2048"
   ]
  },
  {
   "cell_type": "code",
   "execution_count": 24,
   "metadata": {},
   "outputs": [
    {
     "name": "stdout",
     "output_type": "stream",
     "text": [
      "(1200, 8192) (240, 8192)\n"
     ]
    }
   ],
   "source": [
    "# we need 1200 x 8192 dimensional flattened vectors for training\n",
    "img_train_x = np.zeros((len(img_train), 4*2048))\n",
    "img_train_y = []\n",
    "\n",
    "\n",
    "for i, feat in enumerate(img_train):\n",
    "    #getting first 8192 elements\n",
    "    feat = feat[:int(img_train_x.shape[1])]\n",
    "    #putting the value in the modified img_train\n",
    "    img_train_x[i] = feat\n",
    "    #subtracting one for zero based indexing of labels\n",
    "    img_train_y.append(img_train_y_[i]-1)\n",
    "    \n",
    "    img_test_x = np.zeros((len(img_test), 4*2048))\n",
    "\n",
    "# Doing the same for test data\n",
    "img_test_y = []\n",
    "\n",
    "for i, feat in enumerate(img_test):\n",
    "    #getting first 8192 elements\n",
    "    feat = feat[:int(img_test_x.shape[1])]\n",
    "    #putting the value in the modified img_train\n",
    "    img_test_x[i] = feat\n",
    "     #subtracting one for zero based indexing of labels\n",
    "    img_test_y.append(img_test_y_[i]-1)\n",
    "\n",
    "#scaling the train and test images\n",
    "img_train_x = preprocessing.scale(img_train_x)\n",
    "img_test_x = preprocessing.scale(img_test_x)\n",
    "\n",
    "print(img_train_x.shape, img_test_x.shape)"
   ]
  },
  {
   "cell_type": "markdown",
   "metadata": {},
   "source": [
    "## Trying out ML algorithms for emotion prediction purely on the basis of audio features"
   ]
  },
  {
   "cell_type": "code",
   "execution_count": 25,
   "metadata": {},
   "outputs": [
    {
     "name": "stdout",
     "output_type": "stream",
     "text": [
      "SVM Train Accuracy:  0.9141666666666667\n",
      "SVM Test Accuracy:  0.13333333333333333\n"
     ]
    }
   ],
   "source": [
    "#assigning new variables to audio train and test data\n",
    "train_x = audio_train_x\n",
    "test_x = audio_test_x\n",
    "\n",
    "# assigning new variables to labels\n",
    "labs = img_train_y\n",
    "test_labs = img_test_y\n",
    "\n",
    "# Using SVM for predicting emotion based on only audio features\n",
    "svm = SVC(gamma='auto')\n",
    "svm.fit(train_x, labs)\n",
    "\n",
    "print(\"SVM Train Accuracy: \",accuracy_score(labs, svm.predict(train_x)))\n",
    "print(\"SVM Test Accuracy: \",accuracy_score(test_labs, svm.predict(test_x)))"
   ]
  },
  {
   "cell_type": "code",
   "execution_count": 26,
   "metadata": {},
   "outputs": [
    {
     "name": "stdout",
     "output_type": "stream",
     "text": [
      "Logistic Regression Train Accuracy:  0.9991666666666666\n",
      "Logistic Regression Test Accuracy:  0.14583333333333334\n"
     ]
    }
   ],
   "source": [
    "# Using Logistic Regression for predicting emotion based on only audio features\n",
    "log_reg = LogisticRegression(max_iter=1000)\n",
    "log_reg.fit(train_x, labs)\n",
    "\n",
    "print(\"Logistic Regression Train Accuracy: \",accuracy_score(labs, log_reg.predict(train_x)))\n",
    "print(\"Logistic Regression Test Accuracy: \",accuracy_score(test_labs, log_reg.predict(test_x)))"
   ]
  },
  {
   "cell_type": "code",
   "execution_count": 27,
   "metadata": {},
   "outputs": [
    {
     "name": "stdout",
     "output_type": "stream",
     "text": [
      "Decision Tree Train Accuracy:  0.9991666666666666\n",
      "Decision Tree Test Accuracy:  0.1125\n"
     ]
    }
   ],
   "source": [
    "# Using Decision Tree for predicting emotion based on only audio features\n",
    "dt = tree.DecisionTreeClassifier()\n",
    "dt.fit(train_x, labs)\n",
    "\n",
    "print(\"Decision Tree Train Accuracy: \",accuracy_score(labs, dt.predict(train_x)))\n",
    "print(\"Decision Tree Test Accuracy: \",accuracy_score(test_labs, dt.predict(test_x)))"
   ]
  },
  {
   "cell_type": "code",
   "execution_count": 28,
   "metadata": {},
   "outputs": [
    {
     "name": "stdout",
     "output_type": "stream",
     "text": [
      "Random Forest Train Accuracy:  0.9991666666666666\n",
      "Random Forest Test Accuracy:  0.125\n"
     ]
    }
   ],
   "source": [
    "# Using Random Forest for predicting emotion based on only audio features\n",
    "rf = RandomForestClassifier()\n",
    "rf.fit(train_x, labs)\n",
    "\n",
    "print(\"Random Forest Train Accuracy: \",accuracy_score(labs, rf.predict(train_x)))\n",
    "print(\"Random Forest Test Accuracy: \",accuracy_score(test_labs, rf.predict(test_x)))"
   ]
  },
  {
   "source": [
    "### MLP model for Audio "
   ],
   "cell_type": "markdown",
   "metadata": {}
  },
  {
   "cell_type": "code",
   "execution_count": null,
   "metadata": {},
   "outputs": [],
   "source": [
    "import torch.nn as nn\n",
    "import torch.nn.functional as F\n",
    "import torch\n",
    "from torch.autograd import Variable\n",
    "import math\n",
    "\n",
    "class Classification_Net(nn.Module):\n",
    "    def __init__(self, input_dims=3887):\n",
    "        super(Classification_Net, self).__init__()\n",
    "        self.fc1 = nn.Linear(input_dims, 512)\n",
    "        self.fc2 = nn.Linear(512, 128)\n",
    "        self.fc3 = nn.Linear(128, 64)\n",
    "        self.fc4 = nn.Linear(64, 8)\n",
    "        self.dropout_2 = nn.Dropout(p=0.2)\n",
    "        self.dropout_5 = nn.Dropout(p=0.5)\n",
    "        self.relu = nn.ReLU()\n",
    "\n",
    "    def forward(self, feats):\n",
    "        concat_vector = feats\n",
    "        out1 = self.dropout_5(self.relu(self.fc1(concat_vector)))\n",
    "        out2 = self.dropout_2(self.relu(self.fc2(out1)))\n",
    "        out3 = self.dropout_2(self.relu(self.fc3(out2)))\n",
    "        out4 = self.fc4(out3)\n",
    "        return out4\n",
    "\n",
    "from torch.utils.data import *\n",
    "\n",
    "train_tensor_x = torch.Tensor(audio_train_x)\n",
    "train_tensor_y = torch.Tensor(labs)\n",
    "test_tensor_x = torch.Tensor(audio_test_x)\n",
    "test_tensor_y = torch.Tensor(test_labs)\n",
    "\n",
    "train_dataset = TensorDataset(train_tensor_x, train_tensor_y)\n",
    "train_dataloader = DataLoader(train_dataset, batch_size=128, shuffle=True, drop_last=True)\n",
    "\n",
    "test_dataset = TensorDataset(test_tensor_x, test_tensor_y)\n",
    "test_dataloader = DataLoader(test_dataset, batch_size=64, shuffle=True, drop_last=True)\n",
    "\n",
    "model = Classification_Net()\n",
    "criterion = nn.CrossEntropyLoss()\n",
    "optimizer = torch.optim.Adam(model.parameters(), lr=0.001)\n",
    "scheduler = torch.optim.lr_scheduler.ReduceLROnPlateau(optimizer, 'max')\n",
    "\n",
    "losses = []\n",
    "val_accs = []\n",
    "train_accs = []\n",
    "\n",
    "for epoch in range(50):\n",
    "      for itr, (x, y) in enumerate(train_dataloader):\n",
    "      \n",
    "        outputs = model(x)\n",
    "        loss = criterion(outputs, y.long())\n",
    "\n",
    "\n",
    "        optimizer.zero_grad()\n",
    "        loss.backward()\n",
    "        optimizer.step() \n",
    "\n",
    "        if(itr%100 == 0):\n",
    "          with torch.no_grad():\n",
    "            train_correct = 0\n",
    "            train_total = 0\n",
    "            val_correct = 0\n",
    "            val_total = 0\n",
    "\n",
    "            train_preds = []\n",
    "            train_gts = []\n",
    "            test_preds = []\n",
    "            test_gts = []\n",
    "\n",
    "            for x, y in test_dataloader:\n",
    "            \n",
    "\n",
    "              outputs = model(x)\n",
    "\n",
    "              _, predicted = torch.max(outputs.data, 1)\n",
    "              val_total += y.size(0)\n",
    "              val_correct += (predicted == y.long()).sum().item()\n",
    "\n",
    "              test_preds += list(predicted.cpu().detach().numpy())\n",
    "              test_gts += list(y.cpu().detach().numpy())\n",
    "\n",
    "            for i, (x, y) in enumerate(train_dataloader):\n",
    "              if(i == 50):\n",
    "                break\n",
    "            \n",
    "\n",
    "              outputs = model(x)\n",
    "\n",
    "              _, predicted = torch.max(outputs.data, 1)\n",
    "              train_total += y.size(0)\n",
    "              train_correct += (predicted == y.long()).sum().item()\n",
    "\n",
    "              train_preds += list(predicted.cpu().detach().numpy())\n",
    "              train_gts += list(y.cpu().detach().numpy())              \n",
    "              \n",
    "            train_precision = precision_score(train_gts, train_preds, average='micro')\n",
    "            train_recall = recall_score(train_gts, train_preds, average='micro')\n",
    "            test_precision = precision_score(test_gts, test_preds, average='micro')\n",
    "            test_recall = recall_score(test_gts, test_preds, average='micro')\n",
    "\n",
    "            print('Epoch: '+str(epoch)+', Itr: '+str(itr)+', Loss: '+str(loss.item())+', Val acc: '+str(100 * val_correct/val_total)+', Train acc: '+str(100 * train_correct/train_total))\n",
    "            print('TrainP: '+str(train_precision)+', TrainR: '+str(train_recall)+', TestP: '+str(test_precision)+', TestR: '+str(test_recall))\n",
    "            losses.append(loss.item())\n",
    "            val_accs.append(100 * val_correct/val_total)\n",
    "            train_accs.append(100 * train_correct/train_total)\n",
    "plt.figure()\n",
    "plt.plot(losses)\n",
    "plt.title('Losses vs Epochs')\n",
    "plt.xlabel('Epochs')\n",
    "plt.ylabel('Training loss')\n",
    "plt.savefig('unimodal_audio_loss.png')\n",
    "\n",
    "plt.figure()\n",
    "plt.plot(val_accs, label='Test')\n",
    "plt.plot(train_accs, label='Train')\n",
    "plt.title('Accuracies vs Epochs')\n",
    "plt.xlabel('Epochs')\n",
    "plt.ylabel('Accuracies')\n",
    "plt.legend(loc='best')\n",
    "plt.savefig('unimodal_audio_acc.png')"
   ]
  },
  {
   "source": [
    "## Trying out ML algorithms for emotion prediction purely on the basis of image features"
   ],
   "cell_type": "markdown",
   "metadata": {}
  },
  {
   "cell_type": "code",
   "execution_count": null,
   "metadata": {},
   "outputs": [],
   "source": [
    "#assigning new variables to audio train and test data\n",
    "train_x = img_train_x\n",
    "test_x = img_test_x\n",
    "\n",
    "# assigning new variables to labels\n",
    "labs = img_train_y\n",
    "test_labs = img_test_y\n",
    "\n",
    "# Using SVM for predicting emotion based on only image features\n",
    "svm = SVC(gamma='auto')\n",
    "svm.fit(train_x, labs)\n",
    "\n",
    "print(\"SVM Train Accuracy: \",accuracy_score(labs, svm.predict(train_x)))\n",
    "print(\"SVM Test Accuracy: \",accuracy_score(test_labs, svm.predict(test_x)))"
   ]
  },
  {
   "cell_type": "code",
   "execution_count": null,
   "metadata": {},
   "outputs": [],
   "source": [
    "# Using Logistic Regression for predicting emotion based on only image features\n",
    "log_reg = LogisticRegression(max_iter=1000)\n",
    "log_reg.fit(train_x, labs)\n",
    "\n",
    "print(\"Logistic Regression Train Accuracy: \",accuracy_score(labs, log_reg.predict(train_x)))\n",
    "print(\"Logistic Regression Test Accuracy: \",accuracy_score(test_labs, log_reg.predict(test_x)))"
   ]
  },
  {
   "cell_type": "code",
   "execution_count": null,
   "metadata": {},
   "outputs": [],
   "source": [
    "# Using Decision Tree for predicting emotion based on only image features\n",
    "dt = tree.DecisionTreeClassifier()\n",
    "dt.fit(train_x, labs)\n",
    "\n",
    "print(\"Decision Tree Train Accuracy: \",accuracy_score(labs, dt.predict(train_x)))\n",
    "print(\"Decision Tree Test Accuracy: \",accuracy_score(test_labs, dt.predict(test_x)))"
   ]
  },
  {
   "cell_type": "code",
   "execution_count": null,
   "metadata": {},
   "outputs": [],
   "source": [
    "# Using Random Forest for predicting emotion based on only image features\n",
    "rf = RandomForestClassifier()\n",
    "rf.fit(train_x, labs)\n",
    "\n",
    "print(\"Random Forest Train Accuracy: \",accuracy_score(labs, rf.predict(train_x)))\n",
    "print(\"Random Forest Test Accuracy: \",accuracy_score(test_labs, rf.predict(test_x)))"
   ]
  },
  {
   "source": [
    "### MLP model for image "
   ],
   "cell_type": "markdown",
   "metadata": {}
  },
  {
   "cell_type": "code",
   "execution_count": null,
   "metadata": {},
   "outputs": [],
   "source": [
    "import torch.nn as nn\n",
    "import torch.nn.functional as F\n",
    "import torch\n",
    "from torch.autograd import Variable\n",
    "import math\n",
    "\n",
    "class Classification_Net(nn.Module):\n",
    "    def __init__(self, input_dims=8192):\n",
    "        super(Classification_Net, self).__init__()\n",
    "        self.fc1 = nn.Linear(input_dims, 512)\n",
    "        self.fc2 = nn.Linear(512, 128)\n",
    "        self.fc3 = nn.Linear(128, 64)\n",
    "        self.fc4 = nn.Linear(64, 8)\n",
    "        self.dropout_2 = nn.Dropout(p=0.2)\n",
    "        self.dropout_5 = nn.Dropout(p=0.5)\n",
    "        self.relu = nn.ReLU()\n",
    "\n",
    "    def forward(self, feats):\n",
    "        concat_vector = feats\n",
    "        out1 = self.dropout_5(self.relu(self.fc1(concat_vector)))\n",
    "        out2 = self.dropout_2(self.relu(self.fc2(out1)))\n",
    "        out3 = self.dropout_2(self.relu(self.fc3(out2)))\n",
    "        out4 = self.fc4(out3)\n",
    "        return out4\n",
    "\n",
    "from torch.utils.data import *\n",
    "\n",
    "train_tensor_x = torch.Tensor(img_train_x)\n",
    "train_tensor_y = torch.Tensor(img_train_y)\n",
    "test_tensor_x = torch.Tensor(img_test_x)\n",
    "test_tensor_y = torch.Tensor(img_test_y)\n",
    "\n",
    "print(train_tensor_x.shape, train_tensor_y.shape, test_tensor_x.shape, test_tensor_y.shape)\n",
    "\n",
    "train_dataset = TensorDataset(train_tensor_x, train_tensor_y)\n",
    "train_dataloader = DataLoader(train_dataset, batch_size=128, shuffle=True, drop_last=True)\n",
    "\n",
    "test_dataset = TensorDataset(test_tensor_x, test_tensor_y)\n",
    "test_dataloader = DataLoader(test_dataset, batch_size=64, shuffle=True, drop_last=True)\n",
    "\n",
    "model = Classification_Net()\n",
    "criterion = nn.CrossEntropyLoss()\n",
    "optimizer = torch.optim.Adam(model.parameters(), lr=0.001)\n",
    "scheduler = torch.optim.lr_scheduler.ReduceLROnPlateau(optimizer, 'max')\n",
    "\n",
    "\n",
    "losses = []\n",
    "val_accs = []\n",
    "train_accs = []\n",
    "\n",
    "for epoch in range(50):\n",
    "      for itr, (x, y) in enumerate(train_dataloader):\n",
    "        outputs = model(x)\n",
    "        loss = criterion(outputs, y.long())\n",
    "\n",
    "      \n",
    "        optimizer.zero_grad()\n",
    "        loss.backward()\n",
    "        optimizer.step() \n",
    "\n",
    "        if(itr%100 == 0):\n",
    "          with torch.no_grad():\n",
    "            train_correct = 0\n",
    "            train_total = 0\n",
    "            val_correct = 0\n",
    "            val_total = 0\n",
    "\n",
    "            train_preds = []\n",
    "            train_gts = []\n",
    "            test_preds = []\n",
    "            test_gts = []            \n",
    "\n",
    "            for x, y in test_dataloader:\n",
    "              \n",
    "              outputs = model(x)\n",
    "\n",
    "              _, predicted = torch.max(outputs.data, 1)\n",
    "              val_total += y.size(0)\n",
    "              val_correct += (predicted == y.long()).sum().item()\n",
    "\n",
    "              test_gts += list(y.cpu().detach().numpy())\n",
    "              test_preds += list(predicted.cpu().detach().numpy())              \n",
    "\n",
    "            for i, (x, y) in enumerate(train_dataloader):\n",
    "              if(i == 50):\n",
    "                break\n",
    "              \n",
    "\n",
    "              outputs = model(x)\n",
    "\n",
    "              _, predicted = torch.max(outputs.data, 1)\n",
    "              train_total += y.size(0)\n",
    "              train_correct += (predicted == y.long()).sum().item()\n",
    "\n",
    "              train_gts += list(y.cpu().detach().numpy())\n",
    "              train_preds += list(predicted.cpu().detach().numpy())\n",
    "\n",
    "            train_precision = precision_score(train_gts, train_preds, average='micro')\n",
    "            train_recall = recall_score(train_gts, train_preds, average='micro')\n",
    "            test_precision = precision_score(test_gts, test_preds, average='micro')\n",
    "            test_recall = recall_score(test_gts, test_preds, average='micro')\n",
    "\n",
    "            print('Epoch: '+str(epoch)+', Itr: '+str(itr)+', Loss: '+str(loss.item())+', Val acc: '+str(100 * val_correct/val_total)+', Train acc: '+str(100 * train_correct/train_total))\n",
    "            print('TrainP: '+str(train_precision)+', TrainR: '+str(train_recall)+', TestP: '+str(test_precision)+', TestR: '+str(test_recall))              \n",
    "            losses.append(loss.item())\n",
    "            val_accs.append(100 * val_correct/val_total)\n",
    "            train_accs.append(100 * train_correct/train_total)\n",
    "#           \n",
    "torch.save(model.state_dict(), 'model_concat_16384_dimensional.ckpt')\n",
    "\n",
    "plt.figure()\n",
    "plt.plot(losses)\n",
    "plt.title('Losses vs Epochs')\n",
    "plt.xlabel('Epochs')\n",
    "plt.ylabel('Training loss')\n",
    "plt.savefig('unimodal_img_loss.png')\n",
    "\n",
    "plt.figure()\n",
    "plt.plot(val_accs, label='Test')\n",
    "plt.plot(train_accs, label='Train')\n",
    "plt.title('Accuracies vs Epochs')\n",
    "plt.xlabel('Epochs')\n",
    "plt.ylabel('Accuracies')\n",
    "plt.legend(loc='best')\n",
    "plt.savefig('unimodal_img_acc.png')"
   ]
  },
  {
   "cell_type": "code",
   "execution_count": null,
   "metadata": {},
   "outputs": [],
   "source": []
  },
  {
   "cell_type": "markdown",
   "metadata": {},
   "source": [
    "# Hybrid Fusion Model which combines Audio and Image Features"
   ]
  },
  {
   "attachments": {
    "24790e66-0957-4dd6-9ec6-b5f208885606.png": {
     "image/png": "[encoded data removed]"
    }
   },
   "cell_type": "markdown",
   "metadata": {},
   "source": [
    "# ![image.png](attachment:24790e66-0957-4dd6-9ec6-b5f208885606.png)"
   ]
  },
  {
   "cell_type": "raw",
   "metadata": {},
   "source": []
  },
  {
   "cell_type": "code",
   "execution_count": 35,
   "metadata": {},
   "outputs": [],
   "source": [
    "class audioAndImageDataset():\n",
    "    def __init__(self, data, labels):\n",
    "        self.img_data = data[0]\n",
    "        self.audio_data = data[1]\n",
    "        self.img_labels = labels[0]\n",
    "        self.audio_labels = labels[1]\n",
    "\n",
    "    def __len__(self):\n",
    "        return len(self.img_data)\n",
    "\n",
    "    def __getitem__(self, idx):\n",
    "        if torch.is_tensor(idx):\n",
    "            idx = idx.tolist()\n",
    "\n",
    "        img = self.img_data[idx]\n",
    "        img_l = self.img_labels[idx]\n",
    "        audio = self.audio_data[idx]\n",
    "        audio_l = self.audio_labels[idx]\n",
    "\n",
    "        return ([img, audio], [img_l, audio_l])\n",
    "\n",
    "class Concat_Net_2(nn.Module):\n",
    "    # passing respective img and audio feature dimension as default parameter values i.e 8192 and 3887 respectively\n",
    "    def __init__(self, img_input_dims=8192, audio_input_dims=3887):\n",
    "        # calling the super constructor\n",
    "        super(Concat_Net_2, self).__init__()\n",
    "        # first fully connected N.N layer of audio pipeline\n",
    "        # 512 nodes\n",
    "        self.fc1 = nn.Linear(audio_input_dims, 512)\n",
    "        # first fully connected N.N layer of image pipeline\n",
    "        # 512 nodes\n",
    "        self.fc2 = nn.Linear(img_input_dims, 512)\n",
    "        # Concatenating the two pipelines in the third N.N layers\n",
    "        # 128 nodes\n",
    "        self.fc3 = nn.Linear(512*2, 128)\n",
    "        # fourth N.N layer of 64 nodes\n",
    "        self.fc4 = nn.Linear(128, 64)\n",
    "        # audio output branch after 4th layer\n",
    "        self.fc5_audio = nn.Linear(64, 8)\n",
    "        # image output branch after 4th layer\n",
    "        self.fc5_img = nn.Linear(64, 8)\n",
    "        # Dropout layer for regularisation\n",
    "        self.dropout_2 = nn.Dropout(p=0.2)\n",
    "        # Dropout layer for regularisation\n",
    "        self.dropout_5 = nn.Dropout(p=0.5)\n",
    "        # ReLU activation layer\n",
    "        self.relu = nn.ReLU()\n",
    "    # forward pass function\n",
    "    def forward(self, img_feats, audio_feats):\n",
    "        \n",
    "        #image pipeline branch - 1st F.C layer\n",
    "        out_img1 = self.dropout_5(self.relu(self.fc2(img_feats.float())))\n",
    "        \n",
    "        #audio pipeline branch - 1st F.C layer\n",
    "        out_audio1 = self.dropout_5(self.relu(self.fc1(audio_feats.float())))\n",
    "        \n",
    "        #concatenating the two pipeline branches (audio and video)\n",
    "        concat_vector = torch.cat((out_img1, out_audio1), dim=1)\n",
    "        \n",
    "        #concat branch has a layer with 128 nodes\n",
    "        out2 = self.dropout_2(self.relu(self.fc3(concat_vector)))\n",
    "        \n",
    "        #finally passing it to the 64 node layer before output layer\n",
    "        out3 = self.dropout_2(self.relu(self.fc4(out2)))\n",
    "        \n",
    "        #image and audio outputs\n",
    "        out_img = self.fc5_img(out3)\n",
    "        out_audio = self.fc5_audio(out3)\n",
    "        \n",
    "        #returning both\n",
    "        return out_img, out_audio\n",
    "\n",
    "from torch.utils.data import *\n",
    "\n",
    "\n",
    "\n",
    "#train and test data for audio and video\n",
    "train_data = [img_train_x, audio_train_x]\n",
    "train_labels = [img_train_y, img_train_y]\n",
    "test_data = [img_test_x, audio_test_x]\n",
    "test_labels = [img_test_y, img_test_y]\n",
    "\n",
    "# transforming data\n",
    "train_dataset = audioAndImageDataset(train_data, train_labels)\n",
    "test_dataset = audioAndImageDataset(test_data, test_labels)\n",
    "\n",
    "# using data loader with b.s -> 128\n",
    "train_dataloader = DataLoader(train_dataset, batch_size=128, shuffle=True, drop_last=True)\n",
    "test_dataloader = DataLoader(train_dataset, batch_size=64, shuffle=False, drop_last=True)\n",
    "\n"
   ]
  },
  {
   "cell_type": "code",
   "execution_count": 43,
   "metadata": {},
   "outputs": [
    {
     "name": "stdout",
     "output_type": "stream",
     "text": [
      "[tensor([[-0.2471, -0.7980, -1.0642,  ...,  0.5162, -1.1838, -0.2612],\n",
      "        [ 1.7340,  0.1549, -0.0909,  ...,  0.0026, -0.0823, -1.3763],\n",
      "        [-0.9484, -0.4036, -1.0581,  ...,  0.1762, -0.9403, -0.9638],\n",
      "        ...,\n",
      "        [-0.2471,  0.2586,  1.6709,  ..., -0.3474, -0.6068,  1.8688],\n",
      "        [-0.4608, -0.7491,  1.1422,  ..., -1.1580, -0.7595, -1.3892],\n",
      "        [-0.1543, -0.6652,  1.5559,  ...,  1.0713,  0.3031, -1.4219]],\n",
      "       dtype=torch.float64), tensor([[-0.2242,  0.2173,  0.1648,  ..., -0.2115,  1.1244,  0.3602],\n",
      "        [-0.2242,  0.2173,  0.1648,  ...,  0.1670,  0.3218, -0.9088],\n",
      "        [-0.2242,  0.2173,  0.1648,  ..., -0.3349,  0.2425, -0.7148],\n",
      "        ...,\n",
      "        [-0.2242,  0.2173,  0.1648,  ..., -0.0519,  0.6318,  0.0551],\n",
      "        [-0.2242,  0.2173,  0.1648,  ...,  0.0809, -0.1191, -0.3431],\n",
      "        [-0.2242,  0.2173,  0.1648,  ...,  1.2940, -0.0347,  0.1691]],\n",
      "       dtype=torch.float64)] [tensor([3, 0, 7, 2, 5, 6, 1, 5, 0, 6, 1, 0, 5, 2, 3, 1, 0, 3, 4, 6, 4, 7, 2, 6,\n",
      "        5, 6, 7, 6, 3, 5, 4, 2, 7, 6, 0, 6, 2, 5, 3, 2, 4, 7, 2, 0, 2, 2, 7, 2,\n",
      "        7, 6, 3, 1, 7, 5, 2, 3, 7, 5, 1, 5, 5, 5, 5, 2, 6, 3, 2, 2, 2, 0, 1, 3,\n",
      "        7, 4, 1, 5, 3, 3, 3, 5, 3, 4, 2, 7, 4, 2, 1, 1, 2, 3, 7, 2, 5, 7, 2, 3,\n",
      "        7, 7, 5, 1, 6, 0, 5, 1, 3, 2, 3, 5, 5, 3, 0, 0, 3, 2, 3, 1, 6, 1, 5, 2,\n",
      "        2, 2, 4, 5, 5, 2, 4, 3]), tensor([3, 0, 7, 2, 5, 6, 1, 5, 0, 6, 1, 0, 5, 2, 3, 1, 0, 3, 4, 6, 4, 7, 2, 6,\n",
      "        5, 6, 7, 6, 3, 5, 4, 2, 7, 6, 0, 6, 2, 5, 3, 2, 4, 7, 2, 0, 2, 2, 7, 2,\n",
      "        7, 6, 3, 1, 7, 5, 2, 3, 7, 5, 1, 5, 5, 5, 5, 2, 6, 3, 2, 2, 2, 0, 1, 3,\n",
      "        7, 4, 1, 5, 3, 3, 3, 5, 3, 4, 2, 7, 4, 2, 1, 1, 2, 3, 7, 2, 5, 7, 2, 3,\n",
      "        7, 7, 5, 1, 6, 0, 5, 1, 3, 2, 3, 5, 5, 3, 0, 0, 3, 2, 3, 1, 6, 1, 5, 2,\n",
      "        2, 2, 4, 5, 5, 2, 4, 3])]\n",
      "torch.Size([128, 8192]) torch.Size([128, 3887])\n",
      "torch.Size([128]) torch.Size([128])\n"
     ]
    }
   ],
   "source": [
    "count=0\n",
    "for (x,y) in train_dataloader:\n",
    "    if(count==0):\n",
    "        print(x,y)\n",
    "        print(x[0].shape,x[1].shape)\n",
    "        print(y[0].shape,y[1].shape)\n",
    "    count+=1"
   ]
  },
  {
   "cell_type": "code",
   "execution_count": 50,
   "metadata": {},
   "outputs": [
    {
     "name": "stdout",
     "output_type": "stream",
     "text": [
      "Epoch: 0, Itr: 0, Loss: 4.187384605407715, Val img acc: 13.975694444444445, Train img acc: 16.05902777777778, Val audio acc: 14.930555555555555, Train audio acc: 14.67013888888889\n",
      "ImgTrainP: 0.1605902777777778, ImgTrainR: 0.1605902777777778, ImgTestP: 0.13975694444444445, ImgTestR: 0.13975694444444445\n",
      "AudioTrainP: 0.1467013888888889, AudioTrainR: 0.1467013888888889, AudioTestP: 0.14930555555555555, AudioTestR: 0.14930555555555555\n",
      "Epoch: 1, Itr: 0, Loss: 3.4246459007263184, Val img acc: 36.02430555555556, Train img acc: 37.760416666666664, Val audio acc: 38.107638888888886, Train audio acc: 38.107638888888886\n",
      "ImgTrainP: 0.3776041666666667, ImgTrainR: 0.3776041666666667, ImgTestP: 0.3602430555555556, ImgTestR: 0.3602430555555556\n",
      "AudioTrainP: 0.3810763888888889, AudioTrainR: 0.3810763888888889, AudioTestP: 0.3810763888888889, AudioTestR: 0.3810763888888889\n",
      "Epoch: 2, Itr: 0, Loss: 2.967071533203125, Val img acc: 48.4375, Train img acc: 50.173611111111114, Val audio acc: 46.44097222222222, Train audio acc: 50.520833333333336\n",
      "ImgTrainP: 0.5017361111111112, ImgTrainR: 0.5017361111111112, ImgTestP: 0.484375, ImgTestR: 0.484375\n",
      "AudioTrainP: 0.5052083333333334, AudioTrainR: 0.5052083333333334, AudioTestP: 0.4644097222222222, AudioTestR: 0.4644097222222222\n",
      "Epoch: 3, Itr: 0, Loss: 2.115645408630371, Val img acc: 58.24652777777778, Train img acc: 59.201388888888886, Val audio acc: 60.59027777777778, Train audio acc: 61.80555555555556\n",
      "ImgTrainP: 0.5920138888888888, ImgTrainR: 0.5920138888888888, ImgTestP: 0.5824652777777778, ImgTestR: 0.5824652777777778\n",
      "AudioTrainP: 0.6180555555555556, AudioTrainR: 0.6180555555555556, AudioTestP: 0.6059027777777778, AudioTestR: 0.6059027777777778\n",
      "Epoch: 4, Itr: 0, Loss: 2.0040900707244873, Val img acc: 68.75, Train img acc: 70.05208333333333, Val audio acc: 69.70486111111111, Train audio acc: 71.44097222222223\n",
      "ImgTrainP: 0.7005208333333334, ImgTrainR: 0.7005208333333334, ImgTestP: 0.6875, ImgTestR: 0.6875\n",
      "AudioTrainP: 0.7144097222222222, AudioTrainR: 0.7144097222222222, AudioTestP: 0.6970486111111112, AudioTestR: 0.6970486111111112\n",
      "Epoch: 5, Itr: 0, Loss: 1.494305968284607, Val img acc: 79.94791666666667, Train img acc: 78.29861111111111, Val audio acc: 78.64583333333333, Train audio acc: 78.64583333333333\n",
      "ImgTrainP: 0.7829861111111112, ImgTrainR: 0.7829861111111112, ImgTestP: 0.7994791666666666, ImgTestR: 0.7994791666666666\n",
      "AudioTrainP: 0.7864583333333334, AudioTrainR: 0.7864583333333334, AudioTestP: 0.7864583333333334, AudioTestR: 0.7864583333333334\n",
      "Epoch: 6, Itr: 0, Loss: 0.9509295225143433, Val img acc: 85.06944444444444, Train img acc: 85.15625, Val audio acc: 86.28472222222223, Train audio acc: 84.54861111111111\n",
      "ImgTrainP: 0.8515625, ImgTrainR: 0.8515625, ImgTestP: 0.8506944444444444, ImgTestR: 0.8506944444444444\n",
      "AudioTrainP: 0.8454861111111112, AudioTrainR: 0.8454861111111112, AudioTestP: 0.8628472222222222, AudioTestR: 0.8628472222222222\n",
      "Epoch: 7, Itr: 0, Loss: 0.6997621059417725, Val img acc: 88.88888888888889, Train img acc: 88.10763888888889, Val audio acc: 87.84722222222223, Train audio acc: 87.93402777777777\n",
      "ImgTrainP: 0.8810763888888888, ImgTrainR: 0.8810763888888888, ImgTestP: 0.8888888888888888, ImgTestR: 0.8888888888888888\n",
      "AudioTrainP: 0.8793402777777778, AudioTrainR: 0.8793402777777778, AudioTestP: 0.8784722222222222, AudioTestR: 0.8784722222222222\n",
      "Epoch: 8, Itr: 0, Loss: 0.6429349184036255, Val img acc: 89.67013888888889, Train img acc: 90.27777777777777, Val audio acc: 91.49305555555556, Train audio acc: 90.97222222222223\n",
      "ImgTrainP: 0.9027777777777778, ImgTrainR: 0.9027777777777778, ImgTestP: 0.8967013888888888, ImgTestR: 0.8967013888888888\n",
      "AudioTrainP: 0.9097222222222222, AudioTrainR: 0.9097222222222222, AudioTestP: 0.9149305555555556, AudioTestR: 0.9149305555555556\n",
      "Epoch: 9, Itr: 0, Loss: 0.35961464047431946, Val img acc: 92.01388888888889, Train img acc: 92.1875, Val audio acc: 93.14236111111111, Train audio acc: 92.96875\n",
      "ImgTrainP: 0.921875, ImgTrainR: 0.921875, ImgTestP: 0.9201388888888888, ImgTestR: 0.9201388888888888\n",
      "AudioTrainP: 0.9296875, AudioTrainR: 0.9296875, AudioTestP: 0.9314236111111112, AudioTestR: 0.9314236111111112\n",
      "Epoch: 10, Itr: 0, Loss: 0.4815746545791626, Val img acc: 94.09722222222223, Train img acc: 94.53125, Val audio acc: 94.61805555555556, Train audio acc: 94.27083333333333\n",
      "ImgTrainP: 0.9453125, ImgTrainR: 0.9453125, ImgTestP: 0.9409722222222222, ImgTestR: 0.9409722222222222\n",
      "AudioTrainP: 0.9427083333333334, AudioTrainR: 0.9427083333333334, AudioTestP: 0.9461805555555556, AudioTestR: 0.9461805555555556\n",
      "Epoch: 11, Itr: 0, Loss: 0.21999171376228333, Val img acc: 95.48611111111111, Train img acc: 95.74652777777777, Val audio acc: 95.57291666666667, Train audio acc: 95.13888888888889\n",
      "ImgTrainP: 0.9574652777777778, ImgTrainR: 0.9574652777777778, ImgTestP: 0.9548611111111112, ImgTestR: 0.9548611111111112\n",
      "AudioTrainP: 0.9513888888888888, AudioTrainR: 0.9513888888888888, AudioTestP: 0.9557291666666666, AudioTestR: 0.9557291666666666\n",
      "Epoch: 12, Itr: 0, Loss: 0.22650593519210815, Val img acc: 96.09375, Train img acc: 94.53125, Val audio acc: 95.57291666666667, Train audio acc: 94.09722222222223\n",
      "ImgTrainP: 0.9453125, ImgTrainR: 0.9453125, ImgTestP: 0.9609375, ImgTestR: 0.9609375\n",
      "AudioTrainP: 0.9409722222222222, AudioTrainR: 0.9409722222222222, AudioTestP: 0.9557291666666666, AudioTestR: 0.9557291666666666\n",
      "Epoch: 13, Itr: 0, Loss: 0.26596811413764954, Val img acc: 96.52777777777777, Train img acc: 96.18055555555556, Val audio acc: 96.09375, Train audio acc: 95.39930555555556\n",
      "ImgTrainP: 0.9618055555555556, ImgTrainR: 0.9618055555555556, ImgTestP: 0.9652777777777778, ImgTestR: 0.9652777777777778\n",
      "AudioTrainP: 0.9539930555555556, AudioTrainR: 0.9539930555555556, AudioTestP: 0.9609375, AudioTestR: 0.9609375\n",
      "Epoch: 14, Itr: 0, Loss: 0.10247299820184708, Val img acc: 97.74305555555556, Train img acc: 96.18055555555556, Val audio acc: 97.91666666666667, Train audio acc: 96.35416666666667\n",
      "ImgTrainP: 0.9618055555555556, ImgTrainR: 0.9618055555555556, ImgTestP: 0.9774305555555556, ImgTestR: 0.9774305555555556\n",
      "AudioTrainP: 0.9635416666666666, AudioTrainR: 0.9635416666666666, AudioTestP: 0.9791666666666666, AudioTestR: 0.9791666666666666\n",
      "Epoch: 15, Itr: 0, Loss: 0.1461549997329712, Val img acc: 96.875, Train img acc: 97.04861111111111, Val audio acc: 96.96180555555556, Train audio acc: 96.70138888888889\n",
      "ImgTrainP: 0.9704861111111112, ImgTrainR: 0.9704861111111112, ImgTestP: 0.96875, ImgTestR: 0.96875\n",
      "AudioTrainP: 0.9670138888888888, AudioTrainR: 0.9670138888888888, AudioTestP: 0.9696180555555556, AudioTestR: 0.9696180555555556\n",
      "Epoch: 16, Itr: 0, Loss: 0.14748412370681763, Val img acc: 96.61458333333333, Train img acc: 96.52777777777777, Val audio acc: 97.48263888888889, Train audio acc: 97.30902777777777\n",
      "ImgTrainP: 0.9652777777777778, ImgTrainR: 0.9652777777777778, ImgTestP: 0.9661458333333334, ImgTestR: 0.9661458333333334\n",
      "AudioTrainP: 0.9730902777777778, AudioTrainR: 0.9730902777777778, AudioTestP: 0.9748263888888888, AudioTestR: 0.9748263888888888\n",
      "Epoch: 17, Itr: 0, Loss: 0.07671888172626495, Val img acc: 96.96180555555556, Train img acc: 97.13541666666667, Val audio acc: 97.56944444444444, Train audio acc: 97.91666666666667\n",
      "ImgTrainP: 0.9713541666666666, ImgTrainR: 0.9713541666666666, ImgTestP: 0.9696180555555556, ImgTestR: 0.9696180555555556\n",
      "AudioTrainP: 0.9791666666666666, AudioTrainR: 0.9791666666666666, AudioTestP: 0.9756944444444444, AudioTestR: 0.9756944444444444\n",
      "Epoch: 18, Itr: 0, Loss: 0.24772396683692932, Val img acc: 97.04861111111111, Train img acc: 97.65625, Val audio acc: 97.22222222222223, Train audio acc: 97.56944444444444\n",
      "ImgTrainP: 0.9765625, ImgTrainR: 0.9765625, ImgTestP: 0.9704861111111112, ImgTestR: 0.9704861111111112\n",
      "AudioTrainP: 0.9756944444444444, AudioTrainR: 0.9756944444444444, AudioTestP: 0.9722222222222222, AudioTestR: 0.9722222222222222\n",
      "Epoch: 19, Itr: 0, Loss: 0.2005508691072464, Val img acc: 96.875, Train img acc: 97.30902777777777, Val audio acc: 97.39583333333333, Train audio acc: 97.39583333333333\n",
      "ImgTrainP: 0.9730902777777778, ImgTrainR: 0.9730902777777778, ImgTestP: 0.96875, ImgTestR: 0.96875\n",
      "AudioTrainP: 0.9739583333333334, AudioTrainR: 0.9739583333333334, AudioTestP: 0.9739583333333334, AudioTestR: 0.9739583333333334\n",
      "Epoch: 20, Itr: 0, Loss: 0.14264081418514252, Val img acc: 98.17708333333333, Train img acc: 97.48263888888889, Val audio acc: 98.4375, Train audio acc: 97.13541666666667\n",
      "ImgTrainP: 0.9748263888888888, ImgTrainR: 0.9748263888888888, ImgTestP: 0.9817708333333334, ImgTestR: 0.9817708333333334\n",
      "AudioTrainP: 0.9713541666666666, AudioTrainR: 0.9713541666666666, AudioTestP: 0.984375, AudioTestR: 0.984375\n",
      "Epoch: 21, Itr: 0, Loss: 0.16116514801979065, Val img acc: 97.91666666666667, Train img acc: 96.61458333333333, Val audio acc: 98.17708333333333, Train audio acc: 97.48263888888889\n",
      "ImgTrainP: 0.9661458333333334, ImgTrainR: 0.9661458333333334, ImgTestP: 0.9791666666666666, ImgTestR: 0.9791666666666666\n",
      "AudioTrainP: 0.9748263888888888, AudioTrainR: 0.9748263888888888, AudioTestP: 0.9817708333333334, AudioTestR: 0.9817708333333334\n",
      "Epoch: 22, Itr: 0, Loss: 0.16823118925094604, Val img acc: 97.65625, Train img acc: 97.65625, Val audio acc: 97.74305555555556, Train audio acc: 97.91666666666667\n",
      "ImgTrainP: 0.9765625, ImgTrainR: 0.9765625, ImgTestP: 0.9765625, ImgTestR: 0.9765625\n",
      "AudioTrainP: 0.9791666666666666, AudioTrainR: 0.9791666666666666, AudioTestP: 0.9774305555555556, AudioTestR: 0.9774305555555556\n",
      "Epoch: 23, Itr: 0, Loss: 0.34715598821640015, Val img acc: 97.56944444444444, Train img acc: 97.56944444444444, Val audio acc: 96.96180555555556, Train audio acc: 97.65625\n",
      "ImgTrainP: 0.9756944444444444, ImgTrainR: 0.9756944444444444, ImgTestP: 0.9756944444444444, ImgTestR: 0.9756944444444444\n",
      "AudioTrainP: 0.9765625, AudioTrainR: 0.9765625, AudioTestP: 0.9696180555555556, AudioTestR: 0.9696180555555556\n",
      "Epoch: 24, Itr: 0, Loss: 0.0879114493727684, Val img acc: 97.48263888888889, Train img acc: 97.13541666666667, Val audio acc: 96.875, Train audio acc: 96.875\n",
      "ImgTrainP: 0.9713541666666666, ImgTrainR: 0.9713541666666666, ImgTestP: 0.9748263888888888, ImgTestR: 0.9748263888888888\n",
      "AudioTrainP: 0.96875, AudioTrainR: 0.96875, AudioTestP: 0.96875, AudioTestR: 0.96875\n",
      "Epoch: 25, Itr: 0, Loss: 0.08000513911247253, Val img acc: 96.35416666666667, Train img acc: 96.61458333333333, Val audio acc: 96.70138888888889, Train audio acc: 96.26736111111111\n",
      "ImgTrainP: 0.9661458333333334, ImgTrainR: 0.9661458333333334, ImgTestP: 0.9635416666666666, ImgTestR: 0.9635416666666666\n",
      "AudioTrainP: 0.9626736111111112, AudioTrainR: 0.9626736111111112, AudioTestP: 0.9670138888888888, AudioTestR: 0.9670138888888888\n",
      "Epoch: 26, Itr: 0, Loss: 0.07618653774261475, Val img acc: 98.09027777777777, Train img acc: 97.65625, Val audio acc: 97.91666666666667, Train audio acc: 97.30902777777777\n",
      "ImgTrainP: 0.9765625, ImgTrainR: 0.9765625, ImgTestP: 0.9809027777777778, ImgTestR: 0.9809027777777778\n",
      "AudioTrainP: 0.9730902777777778, AudioTrainR: 0.9730902777777778, AudioTestP: 0.9791666666666666, AudioTestR: 0.9791666666666666\n",
      "Epoch: 27, Itr: 0, Loss: 0.31839123368263245, Val img acc: 97.22222222222223, Train img acc: 97.56944444444444, Val audio acc: 98.00347222222223, Train audio acc: 97.56944444444444\n",
      "ImgTrainP: 0.9756944444444444, ImgTrainR: 0.9756944444444444, ImgTestP: 0.9722222222222222, ImgTestR: 0.9722222222222222\n",
      "AudioTrainP: 0.9756944444444444, AudioTrainR: 0.9756944444444444, AudioTestP: 0.9800347222222222, AudioTestR: 0.9800347222222222\n",
      "Epoch: 28, Itr: 0, Loss: 0.013741791248321533, Val img acc: 97.74305555555556, Train img acc: 98.00347222222223, Val audio acc: 97.48263888888889, Train audio acc: 97.91666666666667\n",
      "ImgTrainP: 0.9800347222222222, ImgTrainR: 0.9800347222222222, ImgTestP: 0.9774305555555556, ImgTestR: 0.9774305555555556\n",
      "AudioTrainP: 0.9791666666666666, AudioTrainR: 0.9791666666666666, AudioTestP: 0.9748263888888888, AudioTestR: 0.9748263888888888\n",
      "Epoch: 29, Itr: 0, Loss: 0.10762183368206024, Val img acc: 97.74305555555556, Train img acc: 97.65625, Val audio acc: 97.39583333333333, Train audio acc: 97.82986111111111\n",
      "ImgTrainP: 0.9765625, ImgTrainR: 0.9765625, ImgTestP: 0.9774305555555556, ImgTestR: 0.9774305555555556\n",
      "AudioTrainP: 0.9782986111111112, AudioTrainR: 0.9782986111111112, AudioTestP: 0.9739583333333334, AudioTestR: 0.9739583333333334\n",
      "Epoch: 30, Itr: 0, Loss: 0.15166783332824707, Val img acc: 98.69791666666667, Train img acc: 98.17708333333333, Val audio acc: 98.78472222222223, Train audio acc: 98.35069444444444\n",
      "ImgTrainP: 0.9817708333333334, ImgTrainR: 0.9817708333333334, ImgTestP: 0.9869791666666666, ImgTestR: 0.9869791666666666\n",
      "AudioTrainP: 0.9835069444444444, AudioTrainR: 0.9835069444444444, AudioTestP: 0.9878472222222222, AudioTestR: 0.9878472222222222\n",
      "Epoch: 31, Itr: 0, Loss: 0.08028654009103775, Val img acc: 98.95833333333333, Train img acc: 99.04513888888889, Val audio acc: 98.61111111111111, Train audio acc: 99.04513888888889\n",
      "ImgTrainP: 0.9904513888888888, ImgTrainR: 0.9904513888888888, ImgTestP: 0.9895833333333334, ImgTestR: 0.9895833333333334\n",
      "AudioTrainP: 0.9904513888888888, AudioTrainR: 0.9904513888888888, AudioTestP: 0.9861111111111112, AudioTestR: 0.9861111111111112\n",
      "Epoch: 32, Itr: 0, Loss: 0.08530190587043762, Val img acc: 98.00347222222223, Train img acc: 97.82986111111111, Val audio acc: 98.00347222222223, Train audio acc: 97.91666666666667\n",
      "ImgTrainP: 0.9782986111111112, ImgTrainR: 0.9782986111111112, ImgTestP: 0.9800347222222222, ImgTestR: 0.9800347222222222\n",
      "AudioTrainP: 0.9791666666666666, AudioTrainR: 0.9791666666666666, AudioTestP: 0.9800347222222222, AudioTestR: 0.9800347222222222\n",
      "Epoch: 33, Itr: 0, Loss: 0.03910418227314949, Val img acc: 98.09027777777777, Train img acc: 98.17708333333333, Val audio acc: 98.4375, Train audio acc: 98.17708333333333\n",
      "ImgTrainP: 0.9817708333333334, ImgTrainR: 0.9817708333333334, ImgTestP: 0.9809027777777778, ImgTestR: 0.9809027777777778\n",
      "AudioTrainP: 0.9817708333333334, AudioTrainR: 0.9817708333333334, AudioTestP: 0.984375, AudioTestR: 0.984375\n",
      "Epoch: 34, Itr: 0, Loss: 0.04422599822282791, Val img acc: 98.69791666666667, Train img acc: 98.87152777777777, Val audio acc: 98.69791666666667, Train audio acc: 98.61111111111111\n",
      "ImgTrainP: 0.9887152777777778, ImgTrainR: 0.9887152777777778, ImgTestP: 0.9869791666666666, ImgTestR: 0.9869791666666666\n",
      "AudioTrainP: 0.9861111111111112, AudioTrainR: 0.9861111111111112, AudioTestP: 0.9869791666666666, AudioTestR: 0.9869791666666666\n",
      "Epoch: 35, Itr: 0, Loss: 0.08096274733543396, Val img acc: 98.61111111111111, Train img acc: 98.61111111111111, Val audio acc: 98.26388888888889, Train audio acc: 99.21875\n",
      "ImgTrainP: 0.9861111111111112, ImgTrainR: 0.9861111111111112, ImgTestP: 0.9861111111111112, ImgTestR: 0.9861111111111112\n",
      "AudioTrainP: 0.9921875, AudioTrainR: 0.9921875, AudioTestP: 0.9826388888888888, AudioTestR: 0.9826388888888888\n",
      "Epoch: 36, Itr: 0, Loss: 0.10852871835231781, Val img acc: 98.26388888888889, Train img acc: 98.09027777777777, Val audio acc: 98.4375, Train audio acc: 98.09027777777777\n",
      "ImgTrainP: 0.9809027777777778, ImgTrainR: 0.9809027777777778, ImgTestP: 0.9826388888888888, ImgTestR: 0.9826388888888888\n",
      "AudioTrainP: 0.9809027777777778, AudioTrainR: 0.9809027777777778, AudioTestP: 0.984375, AudioTestR: 0.984375\n",
      "Epoch: 37, Itr: 0, Loss: 0.03751102834939957, Val img acc: 99.21875, Train img acc: 99.47916666666667, Val audio acc: 99.13194444444444, Train audio acc: 99.39236111111111\n",
      "ImgTrainP: 0.9947916666666666, ImgTrainR: 0.9947916666666666, ImgTestP: 0.9921875, ImgTestR: 0.9921875\n",
      "AudioTrainP: 0.9939236111111112, AudioTrainR: 0.9939236111111112, AudioTestP: 0.9913194444444444, AudioTestR: 0.9913194444444444\n",
      "Epoch: 38, Itr: 0, Loss: 0.14182531833648682, Val img acc: 98.87152777777777, Train img acc: 98.69791666666667, Val audio acc: 98.52430555555556, Train audio acc: 98.87152777777777\n",
      "ImgTrainP: 0.9869791666666666, ImgTrainR: 0.9869791666666666, ImgTestP: 0.9887152777777778, ImgTestR: 0.9887152777777778\n",
      "AudioTrainP: 0.9887152777777778, AudioTrainR: 0.9887152777777778, AudioTestP: 0.9852430555555556, AudioTestR: 0.9852430555555556\n",
      "Epoch: 39, Itr: 0, Loss: 0.1905430406332016, Val img acc: 98.61111111111111, Train img acc: 98.87152777777777, Val audio acc: 98.61111111111111, Train audio acc: 98.61111111111111\n",
      "ImgTrainP: 0.9887152777777778, ImgTrainR: 0.9887152777777778, ImgTestP: 0.9861111111111112, ImgTestR: 0.9861111111111112\n",
      "AudioTrainP: 0.9861111111111112, AudioTrainR: 0.9861111111111112, AudioTestP: 0.9861111111111112, AudioTestR: 0.9861111111111112\n",
      "Epoch: 40, Itr: 0, Loss: 0.14988157153129578, Val img acc: 97.91666666666667, Train img acc: 98.35069444444444, Val audio acc: 97.91666666666667, Train audio acc: 98.26388888888889\n",
      "ImgTrainP: 0.9835069444444444, ImgTrainR: 0.9835069444444444, ImgTestP: 0.9791666666666666, ImgTestR: 0.9791666666666666\n",
      "AudioTrainP: 0.9826388888888888, AudioTrainR: 0.9826388888888888, AudioTestP: 0.9791666666666666, AudioTestR: 0.9791666666666666\n",
      "Epoch: 41, Itr: 0, Loss: 0.08210583031177521, Val img acc: 98.35069444444444, Train img acc: 97.56944444444444, Val audio acc: 98.4375, Train audio acc: 98.09027777777777\n",
      "ImgTrainP: 0.9756944444444444, ImgTrainR: 0.9756944444444444, ImgTestP: 0.9835069444444444, ImgTestR: 0.9835069444444444\n",
      "AudioTrainP: 0.9809027777777778, AudioTrainR: 0.9809027777777778, AudioTestP: 0.984375, AudioTestR: 0.984375\n",
      "Epoch: 42, Itr: 0, Loss: 0.11525936424732208, Val img acc: 98.09027777777777, Train img acc: 97.91666666666667, Val audio acc: 98.26388888888889, Train audio acc: 98.09027777777777\n",
      "ImgTrainP: 0.9791666666666666, ImgTrainR: 0.9791666666666666, ImgTestP: 0.9809027777777778, ImgTestR: 0.9809027777777778\n",
      "AudioTrainP: 0.9809027777777778, AudioTrainR: 0.9809027777777778, AudioTestP: 0.9826388888888888, AudioTestR: 0.9826388888888888\n",
      "Epoch: 43, Itr: 0, Loss: 0.13270211219787598, Val img acc: 99.13194444444444, Train img acc: 98.78472222222223, Val audio acc: 98.87152777777777, Train audio acc: 98.61111111111111\n",
      "ImgTrainP: 0.9878472222222222, ImgTrainR: 0.9878472222222222, ImgTestP: 0.9913194444444444, ImgTestR: 0.9913194444444444\n",
      "AudioTrainP: 0.9861111111111112, AudioTrainR: 0.9861111111111112, AudioTestP: 0.9887152777777778, AudioTestR: 0.9887152777777778\n",
      "Epoch: 44, Itr: 0, Loss: 0.042369294911623, Val img acc: 99.56597222222223, Train img acc: 99.21875, Val audio acc: 99.65277777777777, Train audio acc: 98.95833333333333\n",
      "ImgTrainP: 0.9921875, ImgTrainR: 0.9921875, ImgTestP: 0.9956597222222222, ImgTestR: 0.9956597222222222\n",
      "AudioTrainP: 0.9895833333333334, AudioTrainR: 0.9895833333333334, AudioTestP: 0.9965277777777778, AudioTestR: 0.9965277777777778\n",
      "Epoch: 45, Itr: 0, Loss: 0.060409847646951675, Val img acc: 98.61111111111111, Train img acc: 98.26388888888889, Val audio acc: 98.87152777777777, Train audio acc: 98.78472222222223\n",
      "ImgTrainP: 0.9826388888888888, ImgTrainR: 0.9826388888888888, ImgTestP: 0.9861111111111112, ImgTestR: 0.9861111111111112\n",
      "AudioTrainP: 0.9878472222222222, AudioTrainR: 0.9878472222222222, AudioTestP: 0.9887152777777778, AudioTestR: 0.9887152777777778\n",
      "Epoch: 46, Itr: 0, Loss: 0.019117791205644608, Val img acc: 99.56597222222223, Train img acc: 99.04513888888889, Val audio acc: 99.56597222222223, Train audio acc: 98.87152777777777\n",
      "ImgTrainP: 0.9904513888888888, ImgTrainR: 0.9904513888888888, ImgTestP: 0.9956597222222222, ImgTestR: 0.9956597222222222\n",
      "AudioTrainP: 0.9887152777777778, AudioTrainR: 0.9887152777777778, AudioTestP: 0.9956597222222222, AudioTestR: 0.9956597222222222\n",
      "Epoch: 47, Itr: 0, Loss: 0.08036723732948303, Val img acc: 98.95833333333333, Train img acc: 98.69791666666667, Val audio acc: 98.78472222222223, Train audio acc: 98.95833333333333\n",
      "ImgTrainP: 0.9869791666666666, ImgTrainR: 0.9869791666666666, ImgTestP: 0.9895833333333334, ImgTestR: 0.9895833333333334\n",
      "AudioTrainP: 0.9895833333333334, AudioTrainR: 0.9895833333333334, AudioTestP: 0.9878472222222222, AudioTestR: 0.9878472222222222\n",
      "Epoch: 48, Itr: 0, Loss: 0.03305759280920029, Val img acc: 98.87152777777777, Train img acc: 99.13194444444444, Val audio acc: 98.61111111111111, Train audio acc: 98.78472222222223\n",
      "ImgTrainP: 0.9913194444444444, ImgTrainR: 0.9913194444444444, ImgTestP: 0.9887152777777778, ImgTestR: 0.9887152777777778\n",
      "AudioTrainP: 0.9878472222222222, AudioTrainR: 0.9878472222222222, AudioTestP: 0.9861111111111112, AudioTestR: 0.9861111111111112\n",
      "Epoch: 49, Itr: 0, Loss: 0.041090257465839386, Val img acc: 99.04513888888889, Train img acc: 99.13194444444444, Val audio acc: 99.13194444444444, Train audio acc: 99.30555555555556\n",
      "ImgTrainP: 0.9913194444444444, ImgTrainR: 0.9913194444444444, ImgTestP: 0.9904513888888888, ImgTestR: 0.9904513888888888\n",
      "AudioTrainP: 0.9930555555555556, AudioTrainR: 0.9930555555555556, AudioTestP: 0.9913194444444444, AudioTestR: 0.9913194444444444\n"
     ]
    }
   ],
   "source": [
    "model = Concat_Net_2()\n",
    "#CrossEntropy loss\n",
    "criterion = nn.CrossEntropyLoss()\n",
    "#Adam optimizer\n",
    "optimizer = torch.optim.Adam(model.parameters(), lr=0.001)\n",
    "scheduler = torch.optim.lr_scheduler.ReduceLROnPlateau(optimizer, 'max')\n",
    "\n",
    "\n",
    "\n",
    "# arrays for loss, train_acc, and test_acc\n",
    "losses = []\n",
    "img_train_acc = []\n",
    "img_test_acc = []\n",
    "audio_train_acc = []\n",
    "audio_test_acc = []\n",
    "\n",
    "\n",
    "#running model for 50 epochs\n",
    "for epoch in range(50):\n",
    "    \n",
    "      for itr, (x, y) in enumerate(train_dataloader):\n",
    "        # here number of itr is dataset_size/batch_size\n",
    "        \n",
    "        # getting outputs from the model\n",
    "        outputs_img, outputs_audio = model(x[0], x[1])\n",
    "        #getting loss -> adding audio and image losses\n",
    "        loss = criterion(outputs_audio, y[1].long()) + criterion(outputs_img, y[0].long())\n",
    "        \n",
    "        #making gradient zero again\n",
    "        optimizer.zero_grad()\n",
    "        #backpropagating loss\n",
    "        loss.backward()\n",
    "        #taking a grad. desc. step (updating weights)\n",
    "        optimizer.step() \n",
    "\n",
    "        \n",
    "        if(itr%100 == 0):\n",
    "            \n",
    "            # for every 100th iterat\n",
    "            with torch.no_grad():\n",
    "                train_correct_img = 0\n",
    "                train_total_img = 0\n",
    "                val_correct_img = 0\n",
    "                val_total_img = 0\n",
    "                train_correct_audio = 0\n",
    "                train_total_audio = 0\n",
    "                val_correct_audio = 0\n",
    "                val_total_audio = 0\n",
    "\n",
    "                img_train_preds = []\n",
    "                img_train_gts = []\n",
    "                img_test_preds = []\n",
    "                img_test_gts = []            \n",
    "                audio_train_preds = []\n",
    "                audio_train_gts = []\n",
    "                audio_test_preds = []\n",
    "                audio_test_gts = []\n",
    "\n",
    "                for x, y in test_dataloader:\n",
    "                 \n",
    "                    \n",
    "                    #outputs on test\n",
    "                    outputs_img, outputs_audio = model(x[0], x[1])\n",
    "\n",
    "                    # acts like argmax\n",
    "                    _, predicted_img = torch.max(outputs_img.data, 1)\n",
    "                    #\n",
    "                    \n",
    "                    \n",
    "                    # batch size of 64 so it returns 63\n",
    "                    val_total_img += y[0].size(0)\n",
    "                    \n",
    "                    #converting to long datatype, then summing all the True (1s), then use .item() to get the images\n",
    "                    val_correct_img += (predicted_img == y[0].long()).sum().item()\n",
    "                    \n",
    "                    \n",
    "                    _, predicted_audio = torch.max(outputs_audio.data, 1)\n",
    "                    val_total_audio += y[1].size(0)\n",
    "                    val_correct_audio += (predicted_audio == y[1].long()).sum().item()\n",
    "                    \n",
    "                    # tensors are attached to gpu so to convert to it numpy we send it to cpu\n",
    "                    \n",
    "                    #img test ground truths\n",
    "                    img_test_gts += list(y[0].cpu().detach().numpy())\n",
    "                    #img_test preds\n",
    "                    img_test_preds += list(predicted_img.cpu().detach().numpy())      \n",
    "                    # same for audio\n",
    "                    audio_test_gts += list(y[1].cpu().detach().numpy())\n",
    "                    audio_test_preds += list(predicted_audio.cpu().detach().numpy())\n",
    "                \n",
    "                \n",
    "                # now evaluating on training data \n",
    "                for i, (x, y) in enumerate(train_dataloader):\n",
    "                    if(i == 50):\n",
    "                        break\n",
    "                \n",
    "                    \n",
    "                    \n",
    "                    # same flow as done above for test_dataloader\n",
    "                    outputs_img, outputs_audio = model(x[0], x[1])\n",
    "\n",
    "                    _, predicted_img = torch.max(outputs_img.data, 1)\n",
    "                    train_total_img += y[0].size(0)\n",
    "                    train_correct_img += (predicted_img == y[0].long()).sum().item()\n",
    "\n",
    "                    _, predicted_audio = torch.max(outputs_audio.data, 1)\n",
    "                    train_total_audio += y[1].size(0)\n",
    "                    train_correct_audio += (predicted_audio == y[1].long()).sum().item()\n",
    "\n",
    "                    img_train_gts += list(y[0].cpu().detach().numpy())\n",
    "                    img_train_preds += list(predicted_img.cpu().detach().numpy())              \n",
    "                    audio_train_gts += list(y[1].cpu().detach().numpy())\n",
    "                    audio_train_preds += list(predicted_audio.cpu().detach().numpy())\n",
    "                \n",
    "                # micro average helps as dataset varies in size\n",
    "                img_train_precision = precision_score(img_train_gts, img_train_preds, average='micro')\n",
    "                img_train_recall = recall_score(img_train_gts, img_train_preds, average='micro')\n",
    "                img_test_precision = precision_score(img_test_gts, img_test_preds, average='micro')\n",
    "                img_test_recall = recall_score(img_test_gts, img_test_preds, average='micro')\n",
    "                audio_train_precision = precision_score(audio_train_gts, audio_train_preds, average='micro')\n",
    "                audio_train_recall = recall_score(audio_train_gts, audio_train_preds, average='micro')\n",
    "                audio_test_precision = precision_score(audio_test_gts, audio_test_preds, average='micro')\n",
    "                audio_test_recall = recall_score(audio_test_gts, audio_test_preds, average='micro')\n",
    "            \n",
    "                print('Epoch: '+str(epoch)+', Itr: '+str(itr)+', Loss: '+str(loss.item())+', Val img acc: '+ str(100 * val_correct_img/val_total_img)+', Train img acc: '+ str(100 * train_correct_img/train_total_img)+', Val audio acc: '+str(100 * val_correct_audio/val_total_audio)+', Train audio acc: '+str(100 * train_correct_audio/train_total_audio))\n",
    "                print('ImgTrainP: '+str(img_train_precision)+', ImgTrainR: '+str(img_train_recall)+', ImgTestP: '+str(img_test_precision)+', ImgTestR: '+str(img_test_recall))              \n",
    "                print('AudioTrainP: '+str(audio_train_precision)+', AudioTrainR: '+str(audio_train_recall)+', AudioTestP: '+str(audio_test_precision)+', AudioTestR: '+str(audio_test_recall))\n",
    "                losses.append(loss.item())\n",
    "                audio_test_acc.append(100*val_correct_audio/val_total_audio)\n",
    "                audio_train_acc.append(100*train_correct_audio/train_total_audio)\n",
    "                img_test_acc.append(100*val_correct_img/val_total_img)\n",
    "                img_train_acc.append(100*train_correct_img/train_total_img)   \n",
    "             "
   ]
  },
  {
   "cell_type": "code",
   "execution_count": 51,
   "metadata": {},
   "outputs": [
    {
     "data": {
      "text/plain": [
       "<matplotlib.legend.Legend at 0x1a29a19a608>"
      ]
     },
     "execution_count": 51,
     "metadata": {},
     "output_type": "execute_result"
    },
    {
     "data": {
      "image/png": "[encoded data removed]",
      "text/plain": [
       "<Figure size 432x288 with 1 Axes>"
      ]
     },
     "metadata": {
      "needs_background": "light"
     },
     "output_type": "display_data"
    },
    {
     "data": {
      "image/png": "[encoded data removed]",
      "text/plain": [
       "<Figure size 432x288 with 1 Axes>"
      ]
     },
     "metadata": {
      "needs_background": "light"
     },
     "output_type": "display_data"
    },
    {
     "data": {
      "image/png": "[encoded data removed]",
      "text/plain": [
       "<Figure size 432x288 with 1 Axes>"
      ]
     },
     "metadata": {
      "needs_background": "light"
     },
     "output_type": "display_data"
    },
    {
     "data": {
      "image/png": "[encoded data removed]",
      "text/plain": [
       "<Figure size 432x288 with 1 Axes>"
      ]
     },
     "metadata": {
      "needs_background": "light"
     },
     "output_type": "display_data"
    },
    {
     "data": {
      "image/png": "[encoded data removed]",
      "text/plain": [
       "<Figure size 432x288 with 1 Axes>"
      ]
     },
     "metadata": {
      "needs_background": "light"
     },
     "output_type": "display_data"
    },
    {
     "data": {
      "image/png": "[encoded data removed]",
      "text/plain": [
       "<Figure size 432x288 with 1 Axes>"
      ]
     },
     "metadata": {
      "needs_background": "light"
     },
     "output_type": "display_data"
    },
    {
     "data": {
      "image/png": "[encoded data removed]",
      "text/plain": [
       "<Figure size 432x288 with 1 Axes>"
      ]
     },
     "metadata": {
      "needs_background": "light"
     },
     "output_type": "display_data"
    },
    {
     "data": {
      "image/png": "[encoded data removed]",
      "text/plain": [
       "<Figure size 432x288 with 1 Axes>"
      ]
     },
     "metadata": {
      "needs_background": "light"
     },
     "output_type": "display_data"
    },
    {
     "data": {
      "image/png": "[encoded data removed]",
      "text/plain": [
       "<Figure size 432x288 with 1 Axes>"
      ]
     },
     "metadata": {
      "needs_background": "light"
     },
     "output_type": "display_data"
    },
    {
     "data": {
      "image/png": "[encoded data removed]",
      "text/plain": [
       "<Figure size 432x288 with 1 Axes>"
      ]
     },
     "metadata": {
      "needs_background": "light"
     },
     "output_type": "display_data"
    }
   ],
   "source": [
    "plt.figure()\n",
    "plt.plot(losses)\n",
    "plt.title('Training Loss vs Epochs')\n",
    "plt.xlabel('Epochs')\n",
    "plt.ylabel('Training loss')\n",
    "\n",
    "\n",
    "plt.figure()\n",
    "plt.plot(audio_test_acc)\n",
    "plt.title('Audio Val accuracy vs Epochs')\n",
    "plt.xlabel('Epochs')\n",
    "plt.ylabel('Audio val accuracy')\n",
    "\n",
    "\n",
    "plt.figure()\n",
    "plt.plot(audio_train_acc)\n",
    "plt.title('Audio Train accuracy vs Epochs')\n",
    "plt.xlabel('Epochs')\n",
    "plt.ylabel('Audio train accuracy')\n",
    "\n",
    "\n",
    "plt.figure()\n",
    "plt.plot(img_test_acc)\n",
    "plt.title('Image Val accuracy vs Epochs')\n",
    "plt.xlabel('Epochs')\n",
    "plt.ylabel('Image val accuracy')\n",
    "\n",
    "\n",
    "plt.figure()\n",
    "plt.plot(img_test_acc)\n",
    "plt.title('Image Train accuracy vs Epochs')\n",
    "plt.xlabel('Epochs')\n",
    "plt.ylabel('Image train accuracy')\n",
    "\n",
    "plt.figure()\n",
    "plt.plot(img_train_acc, label='Image')\n",
    "plt.plot(audio_train_acc, label='Audio')\n",
    "plt.title('Train accuracies vs Epochs')\n",
    "plt.xlabel('Epochs')\n",
    "plt.ylabel('Train accuracy')\n",
    "plt.legend(loc='best')\n",
    "\n",
    "\n",
    "plt.figure()\n",
    "plt.plot(img_test_acc, label='Image')\n",
    "plt.plot(audio_test_acc, label='Audio')\n",
    "plt.title('Test accuracies vs Epochs')\n",
    "plt.xlabel('Epochs')\n",
    "plt.ylabel('Test accuracy')\n",
    "plt.legend(loc='best')\n",
    "\n",
    "\n",
    "plt.figure()\n",
    "plt.plot(img_train_acc, label='Train')\n",
    "plt.plot(img_test_acc, label='Test')\n",
    "plt.title('Image accuracies vs Epochs')\n",
    "plt.xlabel('Epochs')\n",
    "plt.ylabel('Image accuracy')\n",
    "plt.legend(loc='best')\n",
    "\n",
    "\n",
    "plt.figure()\n",
    "plt.plot(audio_train_acc, label='Train')\n",
    "plt.plot(audio_test_acc, label='Test')\n",
    "plt.title('Audio accuracies vs Epochs')\n",
    "plt.xlabel('Epochs')\n",
    "plt.ylabel('Audio accuracy')\n",
    "plt.legend(loc='best')\n",
    "\n",
    "\n",
    "plt.figure()\n",
    "plt.plot(audio_train_acc, label='Audio Train')\n",
    "plt.plot(audio_test_acc, label='Audio Test')\n",
    "plt.plot(img_train_acc, label='Image Train')\n",
    "plt.plot(img_test_acc, label='Image Test')\n",
    "plt.title('Accuracies vs Epochs')\n",
    "plt.xlabel('Epochs')\n",
    "plt.ylabel('Accuracy')\n",
    "plt.legend(loc='best')\n"
   ]
  },
  {
   "cell_type": "code",
   "execution_count": null,
   "metadata": {},
   "outputs": [],
   "source": []
  }
 ],
 "metadata": {
  "kernelspec": {
   "display_name": "Python 3",
   "language": "python",
   "name": "python3"
  },
  "language_info": {
   "codemirror_mode": {
    "name": "ipython",
    "version": 3
   },
   "file_extension": ".py",
   "mimetype": "text/x-python",
   "name": "python",
   "nbconvert_exporter": "python",
   "pygments_lexer": "ipython3",
   "version": "3.7.7-final"
  }
 },
 "nbformat": 4,
 "nbformat_minor": 4
}